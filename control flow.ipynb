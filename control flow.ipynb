{
 "cells": [
  {
   "cell_type": "markdown",
   "id": "6c8ceadd-4970-46fd-8a9d-0bae08c693de",
   "metadata": {},
   "source": [
    "# BASIC IFELSE STATEMENT\n"
   ]
  },
  {
   "cell_type": "code",
   "execution_count": 4,
   "id": "98b644c9-ba8d-4e48-83e3-a8e79129dd2b",
   "metadata": {},
   "outputs": [
    {
     "name": "stdin",
     "output_type": "stream",
     "text": [
      "Enter a number:  12\n"
     ]
    },
    {
     "name": "stdout",
     "output_type": "stream",
     "text": [
      "Positive number\n"
     ]
    }
   ],
   "source": [
    "#1.positive num or negative num\n",
    "num = float(input(\"Enter a number: \"))\n",
    "if num >= 0:\n",
    "   if num == 0:\n",
    "       print(\"Zero\")\n",
    "   else:\n",
    "       print(\"Positive number\")\n",
    "else:\n",
    "   print(\"Negative number\")\n",
    "\n"
   ]
  },
  {
   "cell_type": "code",
   "execution_count": 34,
   "id": "b23a1cb5-5386-4e8f-b1eb-c07871d55111",
   "metadata": {},
   "outputs": [
    {
     "name": "stdout",
     "output_type": "stream",
     "text": [
      "eligible to vote\n"
     ]
    }
   ],
   "source": [
    "#2.eligible to vote\n",
    "age=43\n",
    "if age>=18:\n",
    "    print('eligible to vote')\n",
    "else:\n",
    "        print ('not eligible to vote')\n"
   ]
  },
  {
   "cell_type": "code",
   "execution_count": 12,
   "id": "a6265128-ccea-435f-aba8-71e66e1c6eaf",
   "metadata": {},
   "outputs": [
    {
     "name": "stdout",
     "output_type": "stream",
     "text": [
      "4\n"
     ]
    }
   ],
   "source": [
    " \n",
    "#3.maximum num\n",
    "def maximum(a, b):\n",
    "     \n",
    "    if a >= b:\n",
    "        return a\n",
    "    else:\n",
    "        return b\n",
    "     \n",
    "\n",
    "a = 2\n",
    "b = 4\n",
    "print(maximum(a, b))"
   ]
  },
  {
   "cell_type": "code",
   "execution_count": 14,
   "id": "3fdcfe56-d061-45f7-a6b0-287f47e9f81d",
   "metadata": {},
   "outputs": [
    {
     "name": "stdout",
     "output_type": "stream",
     "text": [
      "Leap Year\n"
     ]
    }
   ],
   "source": [
    "#4.leap year or not\n",
    "year = 2000\n",
    "\n",
    "if (year%400 == 0) or (year%4==0 and year%100!=0):\n",
    "    print(\"Leap Year\")\n",
    "else:\n",
    "    print(\"Not a Leap Year\")"
   ]
  },
  {
   "cell_type": "code",
   "execution_count": 16,
   "id": "0ba2ac4b-0c02-4458-af2b-17be0dafcb94",
   "metadata": {},
   "outputs": [
    {
     "name": "stdout",
     "output_type": "stream",
     "text": [
      "Consonant\n",
      "Vowel\n"
     ]
    }
   ],
   "source": [
    "#5.vowel or consonants\n",
    "def vowelOrConsonant(x):\n",
    "  \n",
    "    if (x == 'a' or x == 'e' or\n",
    "        x == 'i' or x == 'o' or x == 'u'):\n",
    "        print(\"Vowel\")\n",
    "    else:\n",
    "        print(\"Consonant\")\n",
    "  \n",
    "# Driver code\n",
    "vowelOrConsonant('c')\n",
    "vowelOrConsonant('e')"
   ]
  },
  {
   "cell_type": "code",
   "execution_count": 17,
   "id": "2b1828ee-dee4-402f-92ac-945d1340b6dd",
   "metadata": {},
   "outputs": [
    {
     "name": "stdin",
     "output_type": "stream",
     "text": [
      "Enter a number:  4\n"
     ]
    },
    {
     "name": "stdout",
     "output_type": "stream",
     "text": [
      "4 is Even\n"
     ]
    }
   ],
   "source": [
    "#6.number is odd or even\n",
    "num = int(input(\"Enter a number: \"))\n",
    "if (num % 2) == 0:\n",
    "   print(\"{0} is Even\".format(num))\n",
    "else:\n",
    "   print(\"{0} is Odd\".format(num))"
   ]
  },
  {
   "cell_type": "code",
   "execution_count": 21,
   "id": "1ac2cd6f-991a-4836-a2cf-eb105ddc0f17",
   "metadata": {},
   "outputs": [
    {
     "name": "stdout",
     "output_type": "stream",
     "text": [
      "3.5\n",
      "None\n"
     ]
    }
   ],
   "source": [
    "#7.absolute value of number\n",
    "def my_abs(value):\n",
    "    if value < 5 :\n",
    "        print(value * 1)\n",
    "    else:\n",
    "        print(value * -1)\n",
    "print(my_abs(3.5))"
   ]
  },
  {
   "cell_type": "code",
   "execution_count": 22,
   "id": "148925fc-4f39-4a4b-8e5a-05a8b9f2ef79",
   "metadata": {},
   "outputs": [
    {
     "name": "stdout",
     "output_type": "stream",
     "text": [
      "The largest number is 30\n"
     ]
    }
   ],
   "source": [
    "#8.largest\n",
    "#Variable definition and assignment\n",
    "num1 = 25\n",
    "num2 = 30\n",
    "num3 = 20\n",
    "\n",
    "if (num1 >= num2) and (num1 >= num3):\n",
    "   largest = num1\n",
    "elif (num2 >= num1) and (num2 >= num3):\n",
    "   largest = num2\n",
    "else:\n",
    "   largest = num\n",
    "print(\"The largest number is\", largest)"
   ]
  },
  {
   "cell_type": "code",
   "execution_count": 23,
   "id": "abedcebf-97ee-41dd-8b16-f65afad3790a",
   "metadata": {},
   "outputs": [
    {
     "name": "stdout",
     "output_type": "stream",
     "text": [
      "Yes\n"
     ]
    }
   ],
   "source": [
    "#9.palindrome\n",
    " #function which return reverse of a string\n",
    " \n",
    "def isPalindrome(s):\n",
    "    return s == s[::-1]\n",
    " \n",
    " \n",
    "# Driver code\n",
    "s = \"malayalam\"\n",
    "ans = isPalindrome(s)\n",
    " \n",
    "if ans:\n",
    "    print(\"Yes\")\n",
    "else:\n",
    "    print(\"No\")"
   ]
  },
  {
   "cell_type": "code",
   "execution_count": 25,
   "id": "93e9a36c-7924-4d41-a300-57ba5e551d53",
   "metadata": {},
   "outputs": [
    {
     "name": "stdout",
     "output_type": "stream",
     "text": [
      "Enter Marks Obtained in 5 Subjects: \n"
     ]
    },
    {
     "name": "stdin",
     "output_type": "stream",
     "text": [
      " 32\n",
      " 45\n",
      " 78\n",
      " 89\n",
      " 90\n"
     ]
    },
    {
     "name": "stdout",
     "output_type": "stream",
     "text": [
      "Your Grade is B2\n"
     ]
    }
   ],
   "source": [
    "#10.grade\n",
    "print(\"Enter Marks Obtained in 5 Subjects: \")\n",
    "markOne = int(input())\n",
    "markTwo = int(input())\n",
    "markThree = int(input())\n",
    "markFour = int(input())\n",
    "markFive = int(input())\n",
    "\n",
    "tot = markOne+markTwo+markThree+markFour+markFive\n",
    "avg = tot/5\n",
    "\n",
    "if avg>=91 and avg<=100:\n",
    "    print(\"Your Grade is A1\")\n",
    "elif avg>=81 and avg<91:\n",
    "    print(\"Your Grade is A2\")\n",
    "elif avg>=71 and avg<81:\n",
    "    print(\"Your Grade is B1\")\n",
    "elif avg>=61 and avg<71:\n",
    "    print(\"Your Grade is B2\")\n",
    "elif avg>=51 and avg<61:\n",
    "    print(\"Your Grade is C1\")\n",
    "elif avg>=41 and avg<51:\n",
    "    print(\"Your Grade is C2\")\n",
    "elif avg>=33 and avg<41:\n",
    "    print(\"Your Grade is D\")\n",
    "elif avg>=21 and avg<33:\n",
    "    print(\"Your Grade is E1\")\n",
    "elif avg>=0 and avg<21:\n",
    "    print(\"Your Grade is E2\")\n",
    "else:\n",
    "    print(\"Invalid Input!\")"
   ]
  },
  {
   "cell_type": "markdown",
   "id": "3231e4d1-fea5-4208-b906-bc5251cd843c",
   "metadata": {},
   "source": [
    "# NESTED IF-ELSE STATEMENT"
   ]
  },
  {
   "cell_type": "code",
   "execution_count": 26,
   "id": "3f819c84-d7c5-4d73-aef4-6a3e318d6a25",
   "metadata": {},
   "outputs": [
    {
     "name": "stdin",
     "output_type": "stream",
     "text": [
      "Enter A:  67\n",
      "Enter B:  90\n",
      "Enter C:  800\n"
     ]
    },
    {
     "name": "stdout",
     "output_type": "stream",
     "text": [
      "Greater  =  800\n"
     ]
    }
   ],
   "source": [
    "#11.largest\n",
    "# input three integer numbers \n",
    "a=int(input(\"Enter A: \"))\n",
    "b=int(input(\"Enter B: \"))\n",
    "c=int(input(\"Enter C: \"))\n",
    "\n",
    "if a>b:\n",
    "    if a>c:\n",
    "        g=a\n",
    "    else:\n",
    "        g=c\n",
    "else:\n",
    "    if b>c:\n",
    "        g=b\n",
    "    else:\n",
    "        g=c\n",
    "\n",
    "print(\"Greater  = \",g)\n"
   ]
  },
  {
   "cell_type": "code",
   "execution_count": 27,
   "id": "7d174170-333a-4923-bfd7-8ab4c2dd20a9",
   "metadata": {},
   "outputs": [
    {
     "name": "stdout",
     "output_type": "stream",
     "text": [
      "Scalene Triangle\n"
     ]
    }
   ],
   "source": [
    "#12.determine triangle\n",
    "# Python3 program for the above approach\n",
    " \n",
    "# Function to check if the triangle\n",
    "# is equilateral or isosceles or scalene\n",
    "def checkTriangle(x, y, z):\n",
    " \n",
    "    # _Check for equilateral triangle\n",
    "    if x == y == z:\n",
    "        print(\"Equilateral Triangle\")\n",
    " \n",
    "    # Check for isosceles triangle\n",
    "    elif x == y or y == z or z == x:\n",
    "        print(\"Isosceles Triangle\")\n",
    " \n",
    "    # Otherwise scalene triangle\n",
    "    else:\n",
    "        print(\"Scalene Triangle\")\n",
    " \n",
    " \n",
    "# Driver Code\n",
    " \n",
    "# Given sides of triangle\n",
    "x = 8\n",
    "y = 7\n",
    "z = 9\n",
    " \n",
    "# Function Call\n",
    "checkTriangle(x, y, z)"
   ]
  },
  {
   "cell_type": "code",
   "execution_count": 28,
   "id": "e8907242-3ce9-4e2f-9373-6ba7ddf7496d",
   "metadata": {},
   "outputs": [
    {
     "name": "stdout",
     "output_type": "stream",
     "text": [
      "2000 is a leap year\n"
     ]
    }
   ],
   "source": [
    "#13.leap year\n",
    "\n",
    "\n",
    "year = 2000\n",
    "\n",
    "if (year % 400 == 0) and (year % 100 == 0):\n",
    "    print(\"{0} is a leap year\".format(year))\n",
    "elif (year %\n",
    "      4 ==0) and (year % 100 != 0):\n",
    "    print(\"{0} is a leap year\".format(year))\n",
    "\n",
    "else:\n",
    "    print(\"{0} is not a leap year\".format(year))"
   ]
  },
  {
   "cell_type": "code",
   "execution_count": 30,
   "id": "37020600-8419-4055-ae02-a7d1934018bb",
   "metadata": {},
   "outputs": [
    {
     "name": "stdin",
     "output_type": "stream",
     "text": [
      "Enter a number:  0\n"
     ]
    },
    {
     "name": "stdout",
     "output_type": "stream",
     "text": [
      "Zero\n"
     ]
    }
   ],
   "source": [
    "#14.number is positive negative or zero\n",
    "num = float(input(\"Enter a number: \"))\n",
    "if num > 0:\n",
    "   print(\"Positive number\")\n",
    "elif num == 0:\n",
    "   print(\"Zero\")\n",
    "else:\n",
    "   print(\"Negative number\")\n"
   ]
  },
  {
   "cell_type": "code",
   "execution_count": 32,
   "id": "21a090d4-8c9d-40cc-ade4-aadf0c6c0184",
   "metadata": {},
   "outputs": [
    {
     "name": "stdin",
     "output_type": "stream",
     "text": [
      "Enter your age:  15\n"
     ]
    },
    {
     "name": "stdout",
     "output_type": "stream",
     "text": [
      "teenager\n"
     ]
    }
   ],
   "source": [
    "#15.person is teenager\n",
    "n=int(input(\"Enter your age: \"))\n",
    "\n",
    "if n<=18:\n",
    "    print(\"teenager\")\n",
    "\n",
    "else:\n",
    "    print(\"not teenager\")\n"
   ]
  },
  {
   "cell_type": "code",
   "execution_count": 33,
   "id": "eeab554d-9122-42ad-9ee5-7f3e1637fafd",
   "metadata": {},
   "outputs": [
    {
     "name": "stdout",
     "output_type": "stream",
     "text": [
      "Acute-angled Triangle\n"
     ]
    }
   ],
   "source": [
    "#16.type of triangle\n",
    "def checkTypeOfTriangle(a,b,c):\n",
    "    sqa = pow(a, 2)\n",
    "    sqb = pow(b, 2)\n",
    "    sqc = pow(c, 2)\n",
    " \n",
    "    if (sqa == sqc + sqb or\n",
    "        sqb == sqa + sqc or\n",
    "        sqc == sqa + sqb):\n",
    "        print(\"Right-angled Triangle\")\n",
    " \n",
    "    elif(sqa > sqc + sqb or\n",
    "            sqb > sqa + sqc or\n",
    "            sqc > sqa + sqb):\n",
    "        print(\"Obtuse-angled Triangle\")\n",
    " \n",
    "    else:\n",
    "        print(\"Acute-angled Triangle\")\n",
    " \n",
    "# Driver Code\n",
    "if __name__ == '__main__':\n",
    "    a = 2\n",
    "    b = 2\n",
    "    c = 2\n",
    " \n",
    "    \n",
    "    checkTypeOfTriangle(a, b, c)"
   ]
  },
  {
   "cell_type": "code",
   "execution_count": 35,
   "id": "dfe073e6-44c1-48b0-9893-42e4b47d047c",
   "metadata": {},
   "outputs": [
    {
     "name": "stdout",
     "output_type": "stream",
     "text": [
      "The solution are (-3+0j) and (-2+0j)\n"
     ]
    }
   ],
   "source": [
    "#17. Solve the quadratic equation ax**2 + bx + c = 0\n",
    "\n",
    "# import complex math module\n",
    "import cmath\n",
    "\n",
    "a = 1\n",
    "b = 5\n",
    "c = 6\n",
    "\n",
    "# calculate the discriminant\n",
    "d = (b**2) - (4*a*c)\n",
    "\n",
    "# find two solutions\n",
    "sol1 = (-b-cmath.sqrt(d))/(2*a)\n",
    "sol2 = (-b+cmath.sqrt(d))/(2*a)\n",
    "\n",
    "print('The solution are {0} and {1}'.format(sol1,sol2))\n"
   ]
  },
  {
   "cell_type": "code",
   "execution_count": 45,
   "id": "7fbeb8c9-70bf-42a2-ac82-b1419f1ffe4b",
   "metadata": {},
   "outputs": [
    {
     "name": "stdout",
     "output_type": "stream",
     "text": [
      "Monday\n"
     ]
    }
   ],
   "source": [
    "#18.day calculation\n",
    "dt = '1/07/2013'\n",
    "day, month, year = (int(x) for x in dt.split('/'))    \n",
    "ans = datetime.date(year, month, day)\n",
    "print (ans.strftime(\"%A\"))"
   ]
  },
  {
   "cell_type": "code",
   "execution_count": 2,
   "id": "ccf29e88-b2eb-4845-9b04-49d24ad06fa2",
   "metadata": {},
   "outputs": [
    {
     "name": "stdout",
     "output_type": "stream",
     "text": [
      "1999 is not a leap year\n"
     ]
    }
   ],
   "source": [
    "# 19.Python program to check if year is a leap year or not\n",
    "\n",
    "year = 1999\n",
    "\n",
    "# divided by 100 means century year (ending with 00)\n",
    "# century year divided by 400 is leap year\n",
    "if (year % 400 == 0) and (year % 100 == 0):\n",
    "    print(\"{0} is a leap year\".format(year))\n",
    "\n",
    "# not divided by 100 means not a century year\n",
    "# year divided by 4 is a leap year\n",
    "elif (year % 4 ==0) and (year % 100 != 0):\n",
    "    print(\"{0} is a leap year\".format(year))\n",
    "\n",
    "# if not divided by both 400 (century year) and 4 (not century year)\n",
    "# year is not leap year\n",
    "else:\n",
    "    print(\"{0} is not a leap year\".format(year))"
   ]
  },
  {
   "cell_type": "code",
   "execution_count": 1,
   "id": "0ff43bfd-2b3f-4466-952c-8ca31b31aa7b",
   "metadata": {},
   "outputs": [
    {
     "name": "stdout",
     "output_type": "stream",
     "text": [
      "11 is a prime number\n"
     ]
    }
   ],
   "source": [
    "#20.prime number\n",
    "num = 11\n",
    "# If given number is greater than 1\n",
    "if num > 1:\n",
    "    # Iterate from 2 to n / 2\n",
    "    for i in range(2, int(num/2)+1):\n",
    "        # If num is divisible by any number between\n",
    "        # 2 and n / 2, it is not prime\n",
    "        if (num % i) == 0:\n",
    "            print(num, \"is not a prime number\")\n",
    "            break\n",
    "    else:\n",
    "        print(num, \"is a prime number\")\n",
    "else:\n",
    "    print(num, \"is not a prime number\")"
   ]
  },
  {
   "cell_type": "markdown",
   "id": "6e728ee9-b263-4f4a-b0e7-b42b7c4e81e6",
   "metadata": {},
   "source": [
    "# ELIF STATEMENT\n"
   ]
  },
  {
   "cell_type": "code",
   "execution_count": 12,
   "id": "84d55f3a-f71b-4e75-839c-2122c6a2716b",
   "metadata": {},
   "outputs": [
    {
     "name": "stdin",
     "output_type": "stream",
     "text": [
      "Enter Score Grade: 0.8\n"
     ]
    },
    {
     "name": "stdout",
     "output_type": "stream",
     "text": [
      "grade b\n"
     ]
    }
   ],
   "source": [
    "#21.grade\n",
    "score = float(input(\"Enter Score Grade:\"))\n",
    "if score > 1:\n",
    "    print (\"wrong score\")\n",
    "elif score >= 0.9:\n",
    "    print (\"grade a\")\n",
    "elif score >= 0.8:\n",
    "    print (\"grade b\")\n",
    "elif score >= 0.7:\n",
    "    print (\"grade c\")\n",
    "elif score >= 0.6:\n",
    "    print (\"grade d\")\n",
    "else:\n",
    "    print (\"Your grade is an F\")"
   ]
  },
  {
   "cell_type": "code",
   "execution_count": 17,
   "id": "a3d267fd-3ad7-41b9-873c-12932bdb3434",
   "metadata": {},
   "outputs": [
    {
     "name": "stdin",
     "output_type": "stream",
     "text": [
      "Enter side a:  3\n",
      "Enter side b:  3\n",
      "Enter side c:  3\n"
     ]
    },
    {
     "name": "stdout",
     "output_type": "stream",
     "text": [
      "Acute-angled triangle\n"
     ]
    }
   ],
   "source": [
    "#22.type of triangle\n",
    "def triangleType(a, b, c):\n",
    "    sa = pow(a, 2)\n",
    "    sb = pow(b, 2)\n",
    "    sc = pow(c, 2)\n",
    "    if (sa == sc + sb or sb == sa+sc or sc == sa+sb):\n",
    "        print(\"Right-angled triangle\")\n",
    "    elif (sa > sc + sb or sb > sa+sc or sc > sa+sb):\n",
    "        print(\"Obtuse-angled triangle\")\n",
    "    else:\n",
    "        print(\"Acute-angled triangle\")\n",
    "        \n",
    "a = int(input(\"Enter side a: \"))\n",
    "b = int(input(\"Enter side b: \"))\n",
    "c = int(input(\"Enter side c: \"))\n",
    "triangleType(a, b, c)"
   ]
  },
  {
   "cell_type": "code",
   "execution_count": 18,
   "id": "9574423a-1a32-4e2d-9c39-a94478dddd49",
   "metadata": {},
   "outputs": [
    {
     "name": "stdout",
     "output_type": "stream",
     "text": [
      "The BMI is 21.64532402096181 so Healthy\n"
     ]
    }
   ],
   "source": [
    "#23.BMI\n",
    "\n",
    "def BMI(height, weight):\n",
    "    bmi = weight/(height**2)\n",
    "    return bmi\n",
    "  \n",
    "height = 1.79832\n",
    "weight = 70\n",
    "  \n",
    "\n",
    "bmi = BMI(height, weight)\n",
    "print(\"The BMI is\", format(bmi), \"so \", end='')\n",
    "  \n",
    "if (bmi < 18.5):\n",
    "    print(\"underweight\")\n",
    "  \n",
    "elif ( bmi >= 18.5 and bmi < 24.9):\n",
    "    print(\"Healthy\")\n",
    "  \n",
    "elif ( bmi >= 24.9 and bmi < 30):\n",
    "    print(\"overweight\")\n",
    "  \n",
    "elif ( bmi >=30):\n",
    "    print(\"Suffering from Obesity\")"
   ]
  },
  {
   "cell_type": "code",
   "execution_count": 14,
   "id": "a5a624c4-e4eb-45e8-a8ef-3438eaf1b00c",
   "metadata": {},
   "outputs": [
    {
     "name": "stdin",
     "output_type": "stream",
     "text": [
      "Enter a number:  0\n"
     ]
    },
    {
     "name": "stdout",
     "output_type": "stream",
     "text": [
      "Zero\n"
     ]
    }
   ],
   "source": [
    "#24.positive negative or zero\n",
    "num = float(input(\"Enter a number: \"))\n",
    "if num > 0:\n",
    "   print(\"Positive number\")\n",
    "elif num == 0:\n",
    "   print(\"Zero\")\n",
    "else:\n",
    "   print(\"Negative number\")\n"
   ]
  },
  {
   "cell_type": "code",
   "execution_count": 20,
   "id": "a2b23b27-53cd-43d0-a841-d1011ac38f71",
   "metadata": {},
   "outputs": [
    {
     "name": "stdout",
     "output_type": "stream",
     "text": [
      "A is an upperCase character\n",
      "a is a lowerCase character\n",
      "0 is not an special character\n"
     ]
    }
   ],
   "source": [
    "#25.check the character\n",
    "def check(ch):\n",
    "    if ch.isupper():\n",
    "        print(ch, \"is an upperCase character\")\n",
    "    elif ch.islower():\n",
    "        print(ch, \"is a lowerCase character\")\n",
    "    else:\n",
    "        print(ch, \"is not an special character\")\n",
    " \n",
    "# Driver Code\n",
    "if __name__ == '__main__':\n",
    "    ch = 'A'\n",
    " \n",
    "    # Check the character\n",
    "    check(ch)\n",
    " \n",
    "    # Get the character\n",
    "    ch = 'a'\n",
    " \n",
    "    # Check the character\n",
    "    check(ch)\n",
    " \n",
    "    # Get the character\n",
    "    ch = '0'\n",
    " \n",
    "    # Check the character\n",
    "    check(ch)"
   ]
  },
  {
   "cell_type": "code",
   "execution_count": 21,
   "id": "6660ae9b-a64d-41b6-871c-657860533bed",
   "metadata": {},
   "outputs": [
    {
     "name": "stdin",
     "output_type": "stream",
     "text": [
      "Enter Cost Price :  3000\n",
      "Enter discount % :  10\n"
     ]
    },
    {
     "name": "stdout",
     "output_type": "stream",
     "text": [
      "Cost Price :  3000.0\n",
      "Discount:  300.0\n",
      "Selling Price :  2700.0\n"
     ]
    }
   ],
   "source": [
    "#26. Python program to find selling price with given cost and discount\"\n",
    "# Input cost price of product\n",
    "cp=float(input(\"Enter Cost Price : \"))\n",
    "# Input discount in percentages on cost price\n",
    "ds=float(input(\"Enter discount % : \"))\n",
    "# Calculating discount on cost price\n",
    "discountamt=cp*ds/100\n",
    "# Calculating selling price\n",
    "sp=cp-discountamt\n",
    "print(\"Cost Price : \",cp)\n",
    "print(\"Discount: \",discountamt)\n",
    "print(\"Selling Price : \",sp)"
   ]
  },
  {
   "cell_type": "code",
   "execution_count": 22,
   "id": "a713caf6-41e7-41ed-8646-16831330178e",
   "metadata": {},
   "outputs": [
    {
     "name": "stdin",
     "output_type": "stream",
     "text": [
      " Please enter Number of Units you Consumed :  440\n"
     ]
    },
    {
     "name": "stdout",
     "output_type": "stream",
     "text": [
      "\n",
      "Electricity Bill = 2921.50\n"
     ]
    }
   ],
   "source": [
    "#27.electricity bill\n",
    "# Python Program to Calculate Electricity Bill\n",
    " \n",
    "units = int(input(\" Please enter Number of Units you Consumed : \"))\n",
    "\n",
    "if(units < 50):\n",
    "    amount = units * 2.60\n",
    "    surcharge = 25\n",
    "elif(units <= 100):\n",
    "    amount = 130 + ((units - 50) * 3.25)\n",
    "    surcharge = 35\n",
    "elif(units <= 200):\n",
    "    amount = 130 + 162.50 + ((units - 100) * 5.26)\n",
    "    surcharge = 45\n",
    "else:\n",
    "    amount = 130 + 162.50 + 526 + ((units - 200) * 8.45)\n",
    "    surcharge = 75\n",
    "\n",
    "total = amount + surcharge\n",
    "print(\"\\nElectricity Bill = %.2f\"  %total)\n"
   ]
  },
  {
   "cell_type": "code",
   "execution_count": 18,
   "id": "9fd82140-f14f-43ff-9fce-192d3b9680e8",
   "metadata": {},
   "outputs": [
    {
     "name": "stdout",
     "output_type": "stream",
     "text": [
      "Vertices: [(0, 0), (4, 0), (4, 3), (0, 3)]\n",
      "Edges: [((0, 0), (4, 0)), ((4, 0), (4, 3)), ((4, 3), (0, 3)), ((0, 3), (0, 0))]\n",
      "Area: 12.0\n",
      "Perimeter: 14.0\n"
     ]
    }
   ],
   "source": [
    "#28.quadrilateral\n",
    "import math\n",
    "class Quadrilateral:\n",
    "    def __init__(self, x1, y1, x2, y2, x3, y3, x4, y4):\n",
    "        self.vertices = [(x1, y1), (x2, y2), (x3, y3), (x4, y4)]\n",
    "    \n",
    "    def calculate_area(self):\n",
    "        # Using Shoelace formula to calculate the area\n",
    "        area = 0.5 * abs(sum(x1*y2 - x2*y1 for ((x1, y1), (x2, y2)) in self.get_edges()))\n",
    "        return area\n",
    "    \n",
    "    def calculate_perimeter(self):\n",
    "        # Calculating the sum of lengths of all sides\n",
    "        perimeter = sum(math.dist(self.vertices[i], self.vertices[(i+1) % 4]) for i in range(4))\n",
    "        return perimeter\n",
    "    \n",
    "    def get_edges(self):\n",
    "        # Generating the edges of the quadrilateral\n",
    "        return [(self.vertices[i], self.vertices[(i+1) % 4]) for i in range(4)]\n",
    "# Example usage\n",
    "quad = Quadrilateral(0, 0, 4, 0, 4, 3, 0, 3)\n",
    "print(\"Vertices:\", quad.vertices)\n",
    "print(\"Edges:\", quad.get_edges())\n",
    "print(\"Area:\", quad.calculate_area())\n",
    "print(\"Perimeter:\", quad.calculate_perimeter())"
   ]
  },
  {
   "cell_type": "code",
   "execution_count": 27,
   "id": "eb1ba682-f7cf-4ad3-b828-e3859ced6202",
   "metadata": {},
   "outputs": [
    {
     "name": "stdout",
     "output_type": "stream",
     "text": [
      "For Month number: 5\n",
      "SPRING\n",
      "For Month number: 10\n",
      "AUTUMN\n"
     ]
    }
   ],
   "source": [
    "#29.season\n",
    "def findseason (M) :\n",
    "     \n",
    "    list1 = [[12 , 1 , 2], [3 , 4 , 5],\n",
    "             [6 , 7 , 8], [9 , 10 , 11]]\n",
    "              \n",
    "    if M in list1[0] :\n",
    "        print ( \"WINTER\" )\n",
    "    elif M in list1[1] :\n",
    "        print ( \"SPRING\" )\n",
    "    elif M in list1[2] :\n",
    "        print ( \"SUMMER\" )\n",
    "    elif M in list1[3] :\n",
    "        print ( \"AUTUMN\" )\n",
    "    else :\n",
    "        print ( \"Invalid Month Number\" )\n",
    " \n",
    "# Driver Code\n",
    "M = 5\n",
    "print(\"For Month number:\", M);\n",
    "findseason ( M )\n",
    " \n",
    "M = 10\n",
    "print(\"For Month number:\", M);\n",
    "findseason ( M )"
   ]
  },
  {
   "cell_type": "code",
   "execution_count": 28,
   "id": "b553806e-2c74-4c1e-aad7-1ad773ac7be8",
   "metadata": {},
   "outputs": [
    {
     "name": "stdout",
     "output_type": "stream",
     "text": [
      "2023-09-12 10:06:56.981520\n",
      "Type :-  <class 'datetime.datetime'>\n"
     ]
    }
   ],
   "source": [
    "#30.month and year\n",
    "# import datetime class from datetime module\n",
    "from datetime import datetime\n",
    "\n",
    "# get current date\n",
    "datetime_object = datetime.now()\n",
    "print(datetime_object)\n",
    "print('Type :- ',type(datetime_object))"
   ]
  },
  {
   "cell_type": "markdown",
   "id": "07fc2e37-5957-4d6f-9374-51e4d37dc83b",
   "metadata": {},
   "source": [
    "# basic level\n"
   ]
  },
  {
   "cell_type": "code",
   "execution_count": 29,
   "id": "08f267f6-2bd7-469e-9ce4-da84a39ede22",
   "metadata": {},
   "outputs": [
    {
     "name": "stdin",
     "output_type": "stream",
     "text": [
      "Enter a number:  -7\n"
     ]
    },
    {
     "name": "stdout",
     "output_type": "stream",
     "text": [
      "Negative number\n"
     ]
    }
   ],
   "source": [
    "#1.\n",
    "num = float(input(\"Enter a number: \"))\n",
    "if num > 0:\n",
    "   print(\"Positive number\")\n",
    "elif num == 0:\n",
    "   print(\"Zero\")\n",
    "else:\n",
    "   print(\"Negative number\")\n"
   ]
  },
  {
   "cell_type": "code",
   "execution_count": 35,
   "id": "f695edbc-8b10-46a9-802d-ad67eabedb02",
   "metadata": {},
   "outputs": [
    {
     "name": "stdout",
     "output_type": "stream",
     "text": [
      "not eligible to vote\n"
     ]
    }
   ],
   "source": [
    "#2.eligible to vote or not\n",
    "age=17\n",
    "if age>=18:\n",
    "    print('eligible to vote')\n",
    "else:\n",
    "    print('not eligible to vote')\n"
   ]
  },
  {
   "cell_type": "code",
   "execution_count": 39,
   "id": "0ad6ff24-7aab-4c3b-bdef-447d55244724",
   "metadata": {},
   "outputs": [
    {
     "name": "stdout",
     "output_type": "stream",
     "text": [
      "maximum num is 87\n"
     ]
    }
   ],
   "source": [
    "#3.maximum number\n",
    "num1=23\n",
    "num2=87\n",
    "if ((num1>=num2)):\n",
    "    print(\"maximum num is\", num1)\n",
    "else:\n",
    "    print(\"maximum num is\", num2)\n"
   ]
  },
  {
   "cell_type": "code",
   "execution_count": 41,
   "id": "6b410f7e-c472-4aa6-86ab-0017db76e905",
   "metadata": {},
   "outputs": [
    {
     "name": "stdin",
     "output_type": "stream",
     "text": [
      " Please enter English Marks:  34\n",
      " Please enter Math score:  78\n",
      " Please enter Computer Marks:  90\n",
      " Please enter Physics Marks:  67\n",
      " Please enter Chemistry Marks:  45\n"
     ]
    },
    {
     "name": "stdout",
     "output_type": "stream",
     "text": [
      "Total Marks = 314.00\n",
      "Marks Percentage = 62.80\n",
      "D Grade\n"
     ]
    }
   ],
   "source": [
    "#4.grade\n",
    "# Python Program to find Student Grade\n",
    " \n",
    "english = float(input(\" Please enter English Marks: \"))\n",
    "math = float(input(\" Please enter Math score: \"))\n",
    "computers = float(input(\" Please enter Computer Marks: \"))\n",
    "physics = float(input(\" Please enter Physics Marks: \"))\n",
    "chemistry = float(input(\" Please enter Chemistry Marks: \"))\n",
    "\n",
    "total = english + math + computers + physics + chemistry\n",
    "percentage = (total / 500) * 100\n",
    "\n",
    "print(\"Total Marks = %.2f\"  %total)\n",
    "print(\"Marks Percentage = %.2f\"  %percentage)\n",
    "\n",
    "if(percentage >= 90):\n",
    "    print(\"A Grade\")\n",
    "elif(percentage >= 80):\n",
    "    print(\"B Grade\")\n",
    "elif(percentage >= 70):\n",
    "    print(\"C Grade\")\n",
    "elif(percentage >= 60):\n",
    "    print(\"D Grade\")\n",
    "elif(percentage >= 40):\n",
    "    print(\"E Grade\")\n",
    "else:\n",
    "    print(\"Fail\")"
   ]
  },
  {
   "cell_type": "code",
   "execution_count": 45,
   "id": "3b6b155a-0369-429b-bfcd-80dd6e845876",
   "metadata": {},
   "outputs": [
    {
     "name": "stdout",
     "output_type": "stream",
     "text": [
      "2024 is a leap year.\n"
     ]
    }
   ],
   "source": [
    "#5\n",
    "#Variable definition and assignment\n",
    "year = 2024\n",
    "\n",
    "if (year % 400 == 0) and (year % 100 == 0):\n",
    "    print(\"{0} is a leap year\".format(year))\n",
    "elif (year % 4 ==0) and (year % 100 != 0):\n",
    "    print(\"{0} is a leap year.\".format(year)\n",
    "else:\n",
    "    print(\"{0} is not a leap year.\".format(year))\n",
    "\n"
   ]
  },
  {
   "cell_type": "code",
   "execution_count": 48,
   "id": "c71bc6d6-0e88-4871-89e2-366bd44e7165",
   "metadata": {},
   "outputs": [
    {
     "name": "stdin",
     "output_type": "stream",
     "text": [
      "Please Enter Side  A  3\n",
      "Please Enter Side  B 3\n",
      "Please Enter Side  C  3\n"
     ]
    },
    {
     "name": "stdout",
     "output_type": "stream",
     "text": [
      "It's Equilateral\n"
     ]
    }
   ],
   "source": [
    "#6.triangle classification\n",
    "a = input(\"Please Enter Side  A \") \n",
    "b = input(\"Please Enter Side  B\") \n",
    "c = input(\"Please Enter Side  C \") \n",
    "\n",
    "d = a+b+c \n",
    "\n",
    "if d < (2*a) or d < (2*b) or d < (2*c): \n",
    "    print (\"Shame on you, that is not a triangle!\" )\n",
    "elif (a==b==c): \n",
    "    print (\"It's Equilateral\" ) \n",
    "elif (a==b) or (a==c) or (b==c): \n",
    "    print (\"It's Isosceles\")   "
   ]
  },
  {
   "cell_type": "code",
   "execution_count": 49,
   "id": "475cfc46-b6f6-4f5e-ba3c-79ea5089eb78",
   "metadata": {},
   "outputs": [
    {
     "name": "stdout",
     "output_type": "stream",
     "text": [
      "The largest number is 14\n"
     ]
    }
   ],
   "source": [
    "#7.largest number\n",
    "num1 = 10\n",
    "num2 = 14\n",
    "num3 = 12\n",
    "\n",
    "if (num1 >= num2) and (num1 >= num3):\n",
    "   largest = num1\n",
    "elif (num2 >= num1) and (num2 >= num3):\n",
    "   largest = num2\n",
    "else:\n",
    "   largest = num3\n",
    "\n",
    "print(\"The largest number is\", largest)\n"
   ]
  },
  {
   "cell_type": "code",
   "execution_count": 50,
   "id": "ea3f28d0-a4bb-4391-972a-620244efd72a",
   "metadata": {},
   "outputs": [
    {
     "name": "stdout",
     "output_type": "stream",
     "text": [
      "Consonant\n",
      "Vowel\n"
     ]
    }
   ],
   "source": [
    "#8.vowel or consonants\n",
    "def vowelOrConsonant(x):\n",
    "  \n",
    "    if (x == 'a' or x == 'e' or\n",
    "        x == 'i' or x == 'o' or x == 'u'):\n",
    "        print(\"Vowel\")\n",
    "    else:\n",
    "        print(\"Consonant\")\n",
    "  \n",
    "# Driver code\n",
    "vowelOrConsonant('c')\n",
    "vowelOrConsonant('e')\n",
    "    "
   ]
  },
  {
   "cell_type": "code",
   "execution_count": 7,
   "id": "e801c3a5-df2c-49e4-bd19-8e89f2a825f7",
   "metadata": {},
   "outputs": [
    {
     "name": "stdin",
     "output_type": "stream",
     "text": [
      "Enter Cost Price :  2345\n",
      "Enter discount % :  15\n"
     ]
    },
    {
     "name": "stdout",
     "output_type": "stream",
     "text": [
      "Cost Price :  2345.0\n",
      "Discount:  351.75\n",
      "Selling Price :  1993.25\n"
     ]
    }
   ],
   "source": [
    "#9 Python program to find selling price with given cost and discount\"\n",
    "# Input cost price of product\n",
    "cp=float(input(\"Enter Cost Price : \"))\n",
    "# Input discount in percentages on cost price\n",
    "ds=float(input(\"Enter discount % : \"))\n",
    "# Calculating discount on cost price\n",
    "discountamt=cp*ds/100\n",
    "# Calculating selling price\n",
    "sp=cp-discountamt\n",
    "print(\"Cost Price : \",cp)\n",
    "print(\"Discount: \",discountamt)\n",
    "print(\"Selling Price : \",sp)"
   ]
  },
  {
   "cell_type": "code",
   "execution_count": 8,
   "id": "c9cbfa36-75fb-4664-b8f4-a709b1b30e88",
   "metadata": {},
   "outputs": [
    {
     "name": "stdin",
     "output_type": "stream",
     "text": [
      "Enter a number:  3896\n"
     ]
    },
    {
     "name": "stdout",
     "output_type": "stream",
     "text": [
      "3896 is Even\n"
     ]
    }
   ],
   "source": [
    "#10.even or odd\n",
    "num = int(input(\"Enter a number: \"))\n",
    "if (num % 2) == 0:\n",
    "   print(\"{0} is Even\".format(num))\n",
    "else:\n",
    "   print(\"{0} is Odd\".format(num))"
   ]
  },
  {
   "cell_type": "markdown",
   "id": "e529d9cd-2d39-4cb9-a03b-7ee3658e3cb6",
   "metadata": {},
   "source": [
    "# intermediate level"
   ]
  },
  {
   "cell_type": "code",
   "execution_count": 9,
   "id": "83bdea4a-0633-449f-98e6-4d38cd3c0d6a",
   "metadata": {},
   "outputs": [
    {
     "name": "stdout",
     "output_type": "stream",
     "text": [
      "The roots are\n",
      "(-3.414213562373095+0j)\n",
      "(-0.5857864376269049+0j)\n"
     ]
    }
   ],
   "source": [
    "#11.roots\n",
    "\n",
    "# import complex math module\n",
    "import cmath\n",
    " \n",
    "a = 1\n",
    "b = 4\n",
    "c = 2\n",
    " \n",
    "# calculating  the discriminant\n",
    "dis = (b**2) - (4 * a*c)\n",
    " \n",
    "# find two results\n",
    "ans1 = (-b-cmath.sqrt(dis))/(2 * a)\n",
    "ans2 = (-b + cmath.sqrt(dis))/(2 * a)\n",
    " \n",
    "# printing the results\n",
    "print('The roots are')\n",
    "print(ans1)\n",
    "print(ans2)"
   ]
  },
  {
   "cell_type": "code",
   "execution_count": 10,
   "id": "6d9fa1bf-7630-4816-a952-629f446336cb",
   "metadata": {},
   "outputs": [
    {
     "name": "stdout",
     "output_type": "stream",
     "text": [
      "Datetime is: 2023-09-12 12:36:14.920290\n",
      "Day of a week is: 1\n"
     ]
    }
   ],
   "source": [
    "#12.day of the week\n",
    "from datetime import datetime\n",
    "\n",
    "# get current datetime\n",
    "dt = datetime.now()\n",
    "print('Datetime is:', dt)\n",
    "\n",
    "# get day of week as an integer\n",
    "x = dt.weekday()\n",
    "print('Day of a week is:', x)"
   ]
  },
  {
   "cell_type": "code",
   "execution_count": 11,
   "id": "b7101648-e245-47af-96e4-d407360cd59f",
   "metadata": {},
   "outputs": [
    {
     "name": "stdout",
     "output_type": "stream",
     "text": [
      "The factorial of 7 is 5040\n"
     ]
    }
   ],
   "source": [
    "#13.factorial\n",
    "# Factorial of a number using recursion\n",
    "\n",
    "def recur_factorial(n):\n",
    "   if n == 1:\n",
    "       return n\n",
    "   else:\n",
    "       return n*recur_factorial(n-1)\n",
    "\n",
    "num = 7\n",
    "\n",
    "# check if the number is negative\n",
    "if num < 0:\n",
    "   print(\"Sorry, factorial does not exist for negative numbers\")\n",
    "elif num == 0:\n",
    "   print(\"The factorial of 0 is 1\")\n",
    "else:\n",
    "   print(\"The factorial of\", num, \"is\", recur_factorial(num))\n"
   ]
  },
  {
   "cell_type": "code",
   "execution_count": 21,
   "id": "cd3fb145-11af-45fe-bc83-78493bae4049",
   "metadata": {},
   "outputs": [
    {
     "name": "stdout",
     "output_type": "stream",
     "text": [
      "The largest number is 14\n"
     ]
    }
   ],
   "source": [
    "#14.largest number\n",
    "num1 = 10\n",
    "num2 = 14\n",
    "num3 = 12\n",
    "\n",
    "if (num1 >= num2) and (num1 >= num3):\n",
    "   largest = num1\n",
    "elif (num2 >= num1) and (num2 >= num3):\n",
    "   largest = num2\n",
    "else:\n",
    "   largest = num3\n",
    "\n",
    "print(\"The largest number is\", largest)\n"
   ]
  },
  {
   "cell_type": "code",
   "execution_count": 17,
   "id": "4dc75c03-15b1-41d5-8629-6a1bf3d2270f",
   "metadata": {},
   "outputs": [
    {
     "name": "stdout",
     "output_type": "stream",
     "text": [
      "\n",
      "Welcome to the Pythondex ATM\n"
     ]
    },
    {
     "name": "stdin",
     "output_type": "stream",
     "text": [
      "Please enter your four digit pin:  1234\n"
     ]
    },
    {
     "name": "stdout",
     "output_type": "stream",
     "text": [
      "what do you want to do\n",
      " Enter 1 to Widthdraw Cash \n",
      " Enter 2 for Balance Enquiry \n",
      " Enter 3 to Quit\n"
     ]
    },
    {
     "name": "stdin",
     "output_type": "stream",
     "text": [
      "Enter the number corresponding to the activity you want to do:  2\n"
     ]
    },
    {
     "name": "stdout",
     "output_type": "stream",
     "text": [
      "Total balance 1000 Dollars\n",
      "\n",
      "what do you want to do\n",
      " Enter 1 to Widthdraw Cash \n",
      " Enter 2 for Balance Enquiry \n",
      " Enter 3 to Quit\n"
     ]
    },
    {
     "name": "stdin",
     "output_type": "stream",
     "text": [
      "Enter the number corresponding to the activity you want to do:  3\n"
     ]
    }
   ],
   "source": [
    "#15. PYTHON ATM \n",
    "\n",
    "user = {\n",
    "    'pin': 1234,\n",
    "    'balance':1000\n",
    "}\n",
    "\n",
    "def widthdraw_cash():\n",
    "    while True:\n",
    "        amount = int(input(\"Enter the amount of money you want to widthdraw: \"))\n",
    "        if amount > user['balance']:\n",
    "            print(\"You don't have sufficient balance to make this widthdrawal\")\n",
    "        else:\n",
    "            user['balance'] = user['balance'] - amount\n",
    "            print(f\"{amount} Dollars successfully widthdrawn your remaining balance is {user['balance']} Dollars\")\n",
    "            print('')\n",
    "            return False\n",
    "\n",
    "def balance_enquiry():\n",
    "    print(f\"Total balance {user['balance']} Dollars\")\n",
    "    print('')\n",
    "\n",
    "\n",
    "is_quit = False\n",
    "\n",
    "print('')\n",
    "print(\"Welcome to the Pythondex ATM\")\n",
    "\n",
    "pin = int(input('Please enter your four digit pin: '))\n",
    "\n",
    "if pin == user['pin']:\n",
    "    while is_quit == False:\n",
    "        print(\"what do you want to do\")\n",
    "        print(\" Enter 1 to Widthdraw Cash \\n Enter 2 for Balance Enquiry \\n Enter 3 to Quit\")\n",
    "\n",
    "        query = int(input(\"Enter the number corresponding to the activity you want to do: \"))\n",
    "\n",
    "        if query == 1:\n",
    "            widthdraw_cash()\n",
    "        elif query == 2:\n",
    "            balance_enquiry()\n",
    "        elif query == 3:\n",
    "            is_quit = True\n",
    "\n",
    "        else:\n",
    "            print(\"Please enter a correct value shown\")\n",
    "else:\n",
    "    print(\"Entered wrong pin\")"
   ]
  },
  {
   "cell_type": "code",
   "execution_count": 18,
   "id": "43206065-1a8d-41a2-b1f9-1051bd7c85fc",
   "metadata": {},
   "outputs": [
    {
     "name": "stdout",
     "output_type": "stream",
     "text": [
      "Yes\n"
     ]
    }
   ],
   "source": [
    "#16.palindrome\n",
    "# function which return reverse of a string\n",
    " \n",
    "def isPalindrome(s):\n",
    "    return s == s[::-1]\n",
    " \n",
    " \n",
    "# Driver code\n",
    "s = \"sucus\"\n",
    "ans = isPalindrome(s)\n",
    " \n",
    "if ans:\n",
    "    print(\"Yes\")\n",
    "else:\n",
    "    print(\"No\")"
   ]
  },
  {
   "cell_type": "code",
   "execution_count": 25,
   "id": "8ac2bfda-fc38-4921-8a7f-282d86bff125",
   "metadata": {},
   "outputs": [
    {
     "name": "stdout",
     "output_type": "stream",
     "text": [
      "Average value of the list:\n",
      "\n",
      "67.51375\n",
      "Average value of the list with precision upto 3 decimal value:\n",
      "\n",
      "67.514\n"
     ]
    }
   ],
   "source": [
    "#17.average\n",
    "from statistics import mean \n",
    "\n",
    "inp_lst = [12, 45, 78, 36, 45, 237.11, -1, 88] \n",
    "list_avg = mean(inp_lst) \n",
    "\n",
    "print(\"Average value of the list:\\n\") \n",
    "print(list_avg) \n",
    "print(\"Average value of the list with precision upto 3 decimal value:\\n\")\n",
    "print(round(list_avg,3))"
   ]
  },
  {
   "cell_type": "code",
   "execution_count": 26,
   "id": "c45c4d40-d509-4bed-bb5e-5b5fc306f48b",
   "metadata": {},
   "outputs": [
    {
     "name": "stdout",
     "output_type": "stream",
     "text": [
      "37.5 degree Celsius is equal to 99.5 degree Fahrenheit\n"
     ]
    }
   ],
   "source": [
    "#18.celsius to fah\n",
    "# Python Program to convert temperature in celsius to fahrenheit\n",
    "\n",
    "# change this value for a different result\n",
    "celsius = 37.5\n",
    "\n",
    "# calculate fahrenheit\n",
    "fahrenheit = (celsius * 1.8) + 32\n",
    "print('%0.1f degree Celsius is equal to %0.1f degree Fahrenheit' %(celsius,fahrenheit))\n"
   ]
  },
  {
   "cell_type": "code",
   "execution_count": 1,
   "id": "60128059-1057-44ce-ba20-2e8a5ea65f4f",
   "metadata": {},
   "outputs": [
    {
     "name": "stdout",
     "output_type": "stream",
     "text": [
      "Select operation.\n",
      "1.Add\n",
      "2.Subtract\n",
      "3.Multiply\n",
      "4.Divide\n"
     ]
    },
    {
     "name": "stdin",
     "output_type": "stream",
     "text": [
      "Enter choice(1/2/3/4):  3\n",
      "Enter first number:  12\n",
      "Enter second number:  19\n"
     ]
    },
    {
     "name": "stdout",
     "output_type": "stream",
     "text": [
      "12.0 * 19.0 = 228.0\n"
     ]
    },
    {
     "name": "stdin",
     "output_type": "stream",
     "text": [
      "Let's do next calculation? (yes/no):  no\n"
     ]
    }
   ],
   "source": [
    "# This function adds two numbers\n",
    "def add(x, y):\n",
    "    return x + y\n",
    "\n",
    "# This function subtracts two numbers\n",
    "def subtract(x, y):\n",
    "    return x - y\n",
    "\n",
    "# This function multiplies two numbers\n",
    "def multiply(x, y):\n",
    "    return x * y\n",
    "\n",
    "# This function divides two numbers\n",
    "def divide(x, y):\n",
    "    return x / y\n",
    "\n",
    "\n",
    "print(\"Select operation.\")\n",
    "print(\"1.Add\")\n",
    "print(\"2.Subtract\")\n",
    "print(\"3.Multiply\")\n",
    "print(\"4.Divide\")\n",
    "\n",
    "while True:\n",
    "    # take input from the user\n",
    "    choice = input(\"Enter choice(1/2/3/4): \")\n",
    "\n",
    "    # check if choice is one of the four options\n",
    "    if choice in ('1', '2', '3', '4'):\n",
    "        try:\n",
    "            num1 = float(input(\"Enter first number: \"))\n",
    "            num2 = float(input(\"Enter second number: \"))\n",
    "        except ValueError:\n",
    "            print(\"Invalid input. Please enter a number.\")\n",
    "            continue\n",
    "\n",
    "        if choice == '1':\n",
    "            print(num1, \"+\", num2, \"=\", add(num1, num2))\n",
    "\n",
    "        elif choice == '2':\n",
    "            print(num1, \"-\", num2, \"=\", subtract(num1, num2))\n",
    "\n",
    "        elif choice == '3':\n",
    "            print(num1, \"*\", num2, \"=\", multiply(num1, num2))\n",
    "\n",
    "        elif choice == '4':\n",
    "            print(num1, \"/\", num2, \"=\", divide(num1, num2))\n",
    "        \n",
    "        # check if user wants another calculation\n",
    "        # break the while loop if answer is no\n",
    "        next_calculation = input(\"Let's do next calculation? (yes/no): \")\n",
    "        if next_calculation == \"no\":\n",
    "          break\n",
    "    else:\n",
    "        print(\"Invalid Input\")"
   ]
  },
  {
   "cell_type": "code",
   "execution_count": 8,
   "id": "d789a786-87cf-4b15-ac9f-f8ebe3a3f5ad",
   "metadata": {},
   "outputs": [
    {
     "name": "stdout",
     "output_type": "stream",
     "text": [
      "q =  -0.2666666666666667\n",
      "r =  0.06999999999999999\n"
     ]
    }
   ],
   "source": [
    "#20.cubic\n",
    "a =  1.0\n",
    "b =  0.0\n",
    "c =  0.2 - 1.0\n",
    "d = -0.7 * 0.2\n",
    "\n",
    "q = (3*a*c - b**2) / (9 * a**2)\n",
    "r = (9*a*b*c - 27*a**2*d - 2*b**3) / (54*a**3)\n",
    "\n",
    "print (\"q = \",q)\n",
    "print (\"r = \",r)"
   ]
  },
  {
   "cell_type": "markdown",
   "id": "89d6fb3e-4a17-4b86-9d99-2f5ddee35bed",
   "metadata": {},
   "source": [
    "# ADVANCED LEVEL\n"
   ]
  },
  {
   "cell_type": "code",
   "execution_count": 1,
   "id": "2969c034-4b38-49a2-8faa-5c5b7dd12a2f",
   "metadata": {},
   "outputs": [
    {
     "name": "stdin",
     "output_type": "stream",
     "text": [
      "What's your                     annual income?\n",
      ">>>  2100000\n"
     ]
    },
    {
     "name": "stdout",
     "output_type": "stream",
     "text": [
      "Total tax applicable at                     ₹2100000.0 is ₹367500.0\n"
     ]
    }
   ],
   "source": [
    "#21.income tax\n",
    "def calculate(amount, percent):\n",
    "    return (amount * percent) / 100\n",
    "  \n",
    "def calculate_income_tax(total_income: \n",
    "                         float) -> float:\n",
    "  \n",
    "    if total_income <= 250000:\n",
    "        return 0\n",
    "    elif total_income <= 500000:\n",
    "        return calculate(total_income - \n",
    "                         250000, 5)\n",
    "    elif total_income <= 750000:\n",
    "        return calculate(total_income - \n",
    "                         500000, 10) + 12500\n",
    "    elif total_income <= 1000000:\n",
    "        return calculate(total_income - \n",
    "                         750000, 15) + 37500\n",
    "    elif total_income <= 1250000:\n",
    "        return calculate(total_income - \n",
    "                         1000000, 20) + 75000\n",
    "    elif total_income <= 1500000:\n",
    "        return calculate(total_income - \n",
    "                         1250000, 25) + 125000\n",
    "    else:\n",
    "        return calculate(total_income - \n",
    "                         1500000, 30) + 187500\n",
    "  \n",
    "  \n",
    "if __name__ == '__main__':\n",
    "    total_income = float(input(\"What's your \\\n",
    "                    annual income?\\n>>> \"))\n",
    "    tax = calculate_income_tax(total_income)\n",
    "    print(f\"Total tax applicable at \\\n",
    "                    ₹{total_income} is ₹{tax}\")"
   ]
  },
  {
   "cell_type": "code",
   "execution_count": 8,
   "id": "faa17f1d-3eea-4779-a8d8-1d4bcfaddef4",
   "metadata": {},
   "outputs": [
    {
     "name": "stdin",
     "output_type": "stream",
     "text": [
      "Chose Rock, Paper, Scissors? Rock\n"
     ]
    },
    {
     "name": "stdout",
     "output_type": "stream",
     "text": [
      "You lose! computer chose Paper player chose Rock\n",
      "Score\n",
      "computer win: 1\n",
      "player win: 0\n"
     ]
    }
   ],
   "source": [
    "#22.rock paper scissors\n",
    "from random import randint\n",
    "\n",
    "#list of choice options\n",
    "t = [\"Rock\", \"Paper\", \"Scissors\"]\n",
    "\n",
    "#random choice for computer\n",
    "comp_choice = t[randint(0,2)]\n",
    "\n",
    "player_choice = 1\n",
    "computer_win=0\n",
    "player_win=0\n",
    "\n",
    "while player_choice == 1:\n",
    "#player choses its option\n",
    "    player_choice = input(\"Chose Rock, Paper, Scissors?\")\n",
    "    comp_choice = t[randint(0,2)]\n",
    "    if player_choice == comp_choice:\n",
    "        print(\"Tie!\")\n",
    "        print(\"Score\")\n",
    "        print(\"computer win:\",computer_win)\n",
    "        print(\"player win:\",player_win)\n",
    "    elif player_choice == \"Rock\":\n",
    "        if comp_choice == \"Paper\":\n",
    "            print(\"You lose! computer chose\", comp_choice, \"player chose\", player_choice)\n",
    "            computer_win+=1\n",
    "            print(\"Score\")\n",
    "            print(\"computer win:\",computer_win)\n",
    "            print(\"player win:\",player_win)\n",
    "             \n",
    "        else:\n",
    "            print(\"You win! player chose\", player_choice, \"computer chose\", comp_choice)\n",
    "            player_win+=1\n",
    "            print(\"Score\")\n",
    "            print(\"computer win:\",computer_win)\n",
    "            print(\"player win:\",player_win)\n",
    "    elif player_choice == \"Paper\":\n",
    "        if comp_choice == \"Scissors\":\n",
    "            print(\"You lose! computer chose\", comp_choice, \"player chose\", player_choice)\n",
    "            computer_win+=1\n",
    "            print(\"Score\")\n",
    "            print(\"computer win:\",computer_win)\n",
    "            print(\"player win:\",player_win)\n",
    "        else:\n",
    "            print(\"You win! player chose\", player_choice, \"computer chose\", comp_choice)\n",
    "            player_win+=1\n",
    "            print(\"Score\")\n",
    "            print(\"computer win:\",computer_win)\n",
    "            print(\"player win:\",player_win)\n",
    "    elif player_choice == \"Scissors\":\n",
    "        if comp_choice == \"Rock\":\n",
    "            print(\"You lose computer chose\", comp_choice, \"player chose\", player_choice)\n",
    "            computer_win+=1\n",
    "            print(\"Score\")\n",
    "            print(\"computer win:\",computer_win)\n",
    "            print(\"player win:\",player_win)\n",
    "        else:\n",
    "            print(\"You win! player chose\", player_choice, \"computer chose\", comp_choice)\n",
    "            player_win+=1\n",
    "            print(\"Score\")\n",
    "            print(\"computer win:\",computer_win)\n",
    "            print(\"player win:\",player_win)\n",
    "    else:\n",
    "        print(\"That's not a valid play. Check your spelling!\")"
   ]
  },
  {
   "cell_type": "code",
   "execution_count": 11,
   "id": "e785ba9c-89cc-4f5f-89f7-ac3fb25ef251",
   "metadata": {},
   "outputs": [
    {
     "name": "stdout",
     "output_type": "stream",
     "text": [
      "Password generated: utu21tk2tith\n"
     ]
    }
   ],
   "source": [
    "#23.password\n",
    "import random\n",
    "\n",
    "password_length = 12\n",
    "\n",
    "characters = \"vishukutty12\"\n",
    "\n",
    "password = \"\"   \n",
    "\n",
    "for index in range(password_length):\n",
    "    password = password + random.choice(characters)\n",
    "\n",
    "print(\"Password generated: {}\".format(password))"
   ]
  },
  {
   "cell_type": "code",
   "execution_count": 1,
   "id": "8911170c-6470-482c-a120-c140c85790c6",
   "metadata": {},
   "outputs": [
    {
     "name": "stdout",
     "output_type": "stream",
     "text": [
      "\n",
      "WELCOME! LET'S START THE ADVENTURE\n",
      "\n",
      "You are standing outside of your house and you see a man running towards you and asking for urgent shelter.\n",
      "\n",
      "Will you provide shelter to him. (Yes / No)\n",
      "\n"
     ]
    },
    {
     "name": "stdin",
     "output_type": "stream",
     "text": [
      ">> Yes\n"
     ]
    },
    {
     "name": "stdout",
     "output_type": "stream",
     "text": [
      "\n",
      "After 2 minutes, the Police came to your house, and ask you that whether the thief is in your house or not. Will you say (Yes / No)\n",
      "\n"
     ]
    },
    {
     "name": "stdin",
     "output_type": "stream",
     "text": [
      ">> No\n"
     ]
    },
    {
     "name": "stdout",
     "output_type": "stream",
     "text": [
      "\n",
      "You helped a thief. Now, go to Jail. GAME OVER\n"
     ]
    }
   ],
   "source": [
    "#24.game\n",
    "answer_yes = [\"Yes\", \"Y\", \"yes\", \"y\"]\n",
    "answer_no = [\"No\", \"N\", \"no\", \"n\"]\n",
    "\n",
    "print(\"\"\"\n",
    "WELCOME! LET'S START THE ADVENTURE\n",
    "\n",
    "You are standing outside of your house and you see a man running towards you and asking for urgent shelter.\n",
    "\n",
    "Will you provide shelter to him. (Yes / No)\n",
    "\"\"\")\n",
    "\n",
    "ans1 = input(\">>\")\n",
    "\n",
    "if ans1 in answer_yes:\n",
    "    print(\"\\nAfter 2 minutes, the Police came to your house, and ask you that whether the thief is in your house or not. Will you say (Yes / No)\\n\")\n",
    "\n",
    "    ans2 = input(\">>\")\n",
    "\n",
    "    if ans2 in answer_yes:\n",
    "        print(\"\\nYou are an honest person. He was a thief & You won the Game\")\n",
    "\n",
    "    elif ans2 in answer_no:\n",
    "        print(\"\\nYou helped a thief. Now, go to Jail. GAME OVER\")\n",
    "\n",
    "    else:\n",
    "        print(\"\\nYou typed the wrong input. GOODBYE!\")\n",
    "\n",
    "elif ans1 in answer_no:\n",
    "    print(\"\\nNow, he is trying to kill you. Will, you knock him down? (Yes / No)\\n\")\n",
    "\n",
    "    ans3 = input(\">>\")\n",
    "\n",
    "    if ans3 in answer_yes:\n",
    "        print(\"\\nCongrats! He was a thief & You helped the police to catch him with your bravery.\")\n",
    "\n",
    "    elif ans3 in answer_no:\n",
    "        print(\"\\nSorry! You are dead. He was a thief & He killed you. GAME OVER\")\n",
    "\n",
    "    else:\n",
    "        print(\"\\nYou typed the wrong input. GOODBYE!\")\n",
    "\n",
    "else:\n",
    "    print(\"\\nYou typed the wrong input. GOODBYE!\")"
   ]
  },
  {
   "cell_type": "code",
   "execution_count": 2,
   "id": "a07ddf8e-cf72-4cbd-9992-c18e8d70f8b6",
   "metadata": {},
   "outputs": [
    {
     "name": "stdout",
     "output_type": "stream",
     "text": [
      "Equation 1:\n",
      "Eq(x + y, 1)\n",
      "Equation 2\n",
      "Eq(x - y, 1)\n",
      "Values of 2 unknown variable are as follows:\n",
      "{x: 1, y: 0}\n"
     ]
    }
   ],
   "source": [
    "# 25.linear equation\n",
    "from sympy import symbols, Eq, solve\n",
    "  \n",
    "# defining symbols used in equations\n",
    "# or unknown variables\n",
    "x, y = symbols('x,y')\n",
    "  \n",
    "# defining equations\n",
    "eq1 = Eq((x+y), 1)\n",
    "print(\"Equation 1:\")\n",
    "print(eq1)\n",
    "eq2 = Eq((x-y), 1)\n",
    "print(\"Equation 2\")\n",
    "print(eq2)\n",
    "  \n",
    "# solving the equation\n",
    "print(\"Values of 2 unknown variable are as follows:\")\n",
    "  \n",
    "print(solve((eq1, eq2), (x, y)))"
   ]
  },
  {
   "cell_type": "code",
   "execution_count": 3,
   "id": "c4bb525d-9b68-45bc-bf65-fd8f19b5dd53",
   "metadata": {},
   "outputs": [
    {
     "data": {
      "text/plain": [
       "{'question': ['Q1. What Indian city is the capital of two states?',\n",
       "  'Q2. Which city is the capital of India?',\n",
       "  'Q3. Smallest State of India?',\n",
       "  'Q4. Where is Taj Mahal Located?'],\n",
       " 'answer': [1, 2, 3, 2],\n",
       " 'options': [['Chandigarh', 'Kolkata', 'Delhi', 'Bangalore'],\n",
       "  ['Jaipur', 'Delhi', 'Chennai', 'Mumbai'],\n",
       "  ['Rajasthan', 'Punjab', 'Goa', 'Bihar'],\n",
       "  ['Lucknow', 'Agra', 'Bhopal', 'Delhi']]}"
      ]
     },
     "execution_count": 3,
     "metadata": {},
     "output_type": "execute_result"
    }
   ],
   "source": [
    "#26.quiz\n",
    "{\n",
    "  \"question\": [\n",
    "    \"Q1. What Indian city is the capital of two states?\",\n",
    "    \"Q2. Which city is the capital of India?\",\n",
    "    \"Q3. Smallest State of India?\",\n",
    "    \"Q4. Where is Taj Mahal Located?\"\n",
    "  ],\n",
    "  \"answer\": [\n",
    "    1,\n",
    "    2,\n",
    "    3,\n",
    "    2\n",
    "  ],\n",
    "  \"options\": [\n",
    "\n",
    "    [\"Chandigarh\",\n",
    "      \"Kolkata\",\n",
    "      \"Delhi\",\n",
    "      \"Bangalore\"\n",
    "    ],\n",
    "    [\"Jaipur\",\n",
    "      \"Delhi\",\n",
    "      \"Chennai\",\n",
    "      \"Mumbai\"\n",
    "    ],\n",
    "    [\"Rajasthan\",\n",
    "      \"Punjab\",\n",
    "      \"Goa\",\n",
    "      \"Bihar\"\n",
    "    ],\n",
    "    [\"Lucknow\",\n",
    "      \"Agra\",\n",
    "      \"Bhopal\",\n",
    "      \"Delhi\"\n",
    "    ]\n",
    "  ]\n",
    "}"
   ]
  },
  {
   "cell_type": "code",
   "execution_count": 7,
   "id": "ab2c6cac-14ce-4017-8652-c0398bf1b4ae",
   "metadata": {},
   "outputs": [
    {
     "name": "stdout",
     "output_type": "stream",
     "text": [
      "1998 given year is not a prime number\n"
     ]
    }
   ],
   "source": [
    "#27.prime number or not\n",
    "num = 1998\n",
    "# If given number is greater than 1\n",
    "if num > 1:\n",
    "    # Iterate from 2 to n / 2\n",
    "    for i in range(2, int(num/2)+1):\n",
    "        # If num is divisible by any number between\n",
    "        # 2 and n / 2, it is not prime\n",
    "        if (num % i) == 0:\n",
    "            print(num, \"given year is not a prime number\")\n",
    "            break\n",
    "    else:\n",
    "        print(num, \"given year is a prime number\")\n",
    "else:\n",
    "    print(num, \"given year is not a prime number\")"
   ]
  },
  {
   "cell_type": "code",
   "execution_count": 8,
   "id": "6a749041-1658-4745-80c0-d4f1993926ed",
   "metadata": {},
   "outputs": [
    {
     "name": "stdin",
     "output_type": "stream",
     "text": [
      "Enter a:  34\n",
      "Enter b:  54\n",
      "Enter c:  67\n"
     ]
    },
    {
     "name": "stdout",
     "output_type": "stream",
     "text": [
      "34.0 < 54.0 < 67.0\n"
     ]
    }
   ],
   "source": [
    "#28.sort three num in ascending order\n",
    "a = float(input(\"Enter a: \"))\n",
    "b = float(input(\"Enter b: \"))\n",
    "c = float(input(\"Enter c: \"))\n",
    "if a < b:\n",
    "    if b < c:\n",
    "        print (a, \"<\", b, \"<\", c)\n",
    "    else:\n",
    "        if a < c:\n",
    "            print (a, \"<\", c, \"<\", b)\n",
    "        else:\n",
    "            print (c, \"<\", a, \"<\", b)\n",
    "else:\n",
    "    if c < b:\n",
    "        print (c, \"<\", b, \"<\", a)\n",
    "    else:\n",
    "        if c < a:\n",
    "            print (b, \"<\", c, \"<\", a)\n",
    "        else:\n",
    "            print (b, \"<\", a, \"<\", c)"
   ]
  },
  {
   "cell_type": "code",
   "execution_count": 9,
   "id": "7561a360-3351-4c15-93e6-f08ca14f3d0c",
   "metadata": {},
   "outputs": [
    {
     "name": "stdout",
     "output_type": "stream",
     "text": [
      "The solution are (-3+0j) and (-2+0j)\n"
     ]
    }
   ],
   "source": [
    "#29.quadratic equation\n",
    "# Solve the quadratic equation ax**2 + bx + c = 0\n",
    "\n",
    "# import complex math module\n",
    "import cmath\n",
    "\n",
    "a = 1\n",
    "b = 5\n",
    "c = 6\n",
    "\n",
    "# calculate the discriminant\n",
    "d = (b**2) - (4*a*c)\n",
    "\n",
    "# find two solutions\n",
    "sol1 = (-b-cmath.sqrt(d))/(2*a)\n",
    "sol2 = (-b+cmath.sqrt(d))/(2*a)\n",
    "\n",
    "print('The solution are {0} and {1}'.format(sol1,sol2))\n"
   ]
  },
  {
   "cell_type": "code",
   "execution_count": 11,
   "id": "92dc0b0e-da22-4604-8be9-311cc8a38333",
   "metadata": {},
   "outputs": [
    {
     "name": "stdin",
     "output_type": "stream",
     "text": [
      "Please enter your height in inches:  170\n",
      "Please enter your weight in pound:  180\n"
     ]
    },
    {
     "name": "stdout",
     "output_type": "stream",
     "text": [
      "Your Body Mass Index is:  4.38\n",
      "Underweight.\n",
      "eat healty fruits and vegetables daily\n"
     ]
    }
   ],
   "source": [
    "#30.BMI AND ADVICES\n",
    "while True:\n",
    "    try:\n",
    "        # Taking user input\n",
    "        Height = float(input(\"Please enter your height in inches: \"))\n",
    "        Weight = float(input(\"Please enter your weight in pound: \"))\n",
    "    except ValueError:\n",
    "        # Validation error.\n",
    "        print(\"Please provide valid input.\")\n",
    "        continue  # Return to the start of the loop.\n",
    "    else:\n",
    "        if Height <= 0 or Weight <= 0:\n",
    "            print(\"Your input must not be zero or less.\")\n",
    "            continue\n",
    "        else:\n",
    "            # Calculate BMI\n",
    "            BMIIndex = round(Weight / (Height * Height) * 703, 2)\n",
    "\n",
    "            # Print the output\n",
    "            print(\"Your Body Mass Index is: \", BMIIndex)\n",
    "\n",
    "            if BMIIndex < 18.5:\n",
    "                print(\"Underweight.\")\n",
    "                print(\"eat healty fruits and vegetables daily\")\n",
    "            elif BMIIndex <= 24.9:\n",
    "                print(\"Normal.\")\n",
    "            elif BMIIndex <= 29.9:\n",
    "                print(\"Overweight.\")\n",
    "                print(\"regular exercise is must\")\n",
    "            else:\n",
    "                print(\"Obese.\")\n",
    "        break"
   ]
  },
  {
   "cell_type": "markdown",
   "id": "34a33468-a5d7-411b-8082-1bfe3d1449fa",
   "metadata": {},
   "source": [
    "# CHALLENGE LEVEL"
   ]
  },
  {
   "cell_type": "code",
   "execution_count": 14,
   "id": "b3516b33-874b-42e9-be85-abcafbc20a25",
   "metadata": {},
   "outputs": [
    {
     "name": "stdout",
     "output_type": "stream",
     "text": [
      "Valid Password\n"
     ]
    }
   ],
   "source": [
    "#31.password validates\n",
    "\n",
    "import re\n",
    "password = \"R@m@_f0rtu9e$\"\n",
    "flag = 0\n",
    "while True:\n",
    "    if (len(password)<=8):\n",
    "        flag = -1\n",
    "        break\n",
    "    elif not re.search(\"[a-z]\", password):\n",
    "        flag = -1\n",
    "        break\n",
    "    elif not re.search(\"[A-Z]\", password):\n",
    "        flag = -1\n",
    "        break\n",
    "    elif not re.search(\"[0-9]\", password):\n",
    "        flag = -1\n",
    "        break\n",
    "    elif not re.search(\"[_@$]\" , password):\n",
    "        flag = -1\n",
    "        break\n",
    "    elif re.search(\"\\s\" , password):\n",
    "        flag = -1\n",
    "        break\n",
    "    else:\n",
    "        flag = 0\n",
    "        print(\"Valid Password\")\n",
    "        break\n",
    " \n",
    "if flag == -1:\n",
    "    print(\"Not a Valid Password \")"
   ]
  },
  {
   "cell_type": "code",
   "execution_count": 16,
   "id": "4ac51fc3-0c9f-44df-aefe-fefbac39993b",
   "metadata": {},
   "outputs": [
    {
     "name": "stdout",
     "output_type": "stream",
     "text": [
      "Add Matrix:\n",
      "[[ 9  9 13]\n",
      " [17  5 12]]\n",
      "Subtract Matrix:\n",
      "[[ 7  3  5]\n",
      " [ 1 -5  0]]\n"
     ]
    }
   ],
   "source": [
    "#32. Python program to add and subtract two matrices\n",
    "\n",
    "import numpy as np\n",
    "m1 = np.array([[1, 3, 4], [8, 5, 6]])\n",
    "m2 = np.array([[8, 6, 9], [9, 0, 6]])\n",
    "\n",
    "print(\"Add Matrix:\")\n",
    "a = np.add(m1, m2)\n",
    "print(a)\n",
    "\n",
    "print(\"Subtract Matrix:\")\n",
    "b = np.subtract(m2, m1)\n",
    "print(b)"
   ]
  },
  {
   "cell_type": "code",
   "execution_count": 21,
   "id": "e31c695b-3604-4b8f-84f7-14491d3e3bff",
   "metadata": {},
   "outputs": [
    {
     "name": "stdin",
     "output_type": "stream",
     "text": [
      "What's the first number?  32\n",
      "What's the second number?  54\n"
     ]
    },
    {
     "name": "stdout",
     "output_type": "stream",
     "text": [
      "32\n",
      "The GCD of the two numbers is 32\n"
     ]
    }
   ],
   "source": [
    "#33.GCD\n",
    "a = int(input(\"What's the first number? \"))\n",
    "b = int(input(\"What's the second number? \")) \n",
    "r = int(a - (b)*int(a/b))\n",
    "\n",
    "if r == 0:\n",
    "    print(\"The GCD of the two choosen numbers is \" + str(b))\n",
    "\n",
    "elif r != 0:\n",
    "    print( b and r)\n",
    "(b == a) and (r == b)\n",
    "\n",
    "print(\"The GCD of the two numbers is \" + str(r))"
   ]
  },
  {
   "cell_type": "code",
   "execution_count": 22,
   "id": "f4431165-4ff3-4be5-a714-ef33c807927a",
   "metadata": {},
   "outputs": [
    {
     "name": "stdout",
     "output_type": "stream",
     "text": [
      "[114, 160, 60, 27]\n",
      "[74, 97, 73, 14]\n",
      "[119, 157, 112, 23]\n"
     ]
    }
   ],
   "source": [
    "#34.matrix multiplication\n",
    "# Program to multiply two matrices using nested loops\n",
    "\n",
    "# 3x3 matrix\n",
    "X = [[12,7,3],\n",
    "    [4 ,5,6],\n",
    "    [7 ,8,9]]\n",
    "# 3x4 matrix\n",
    "Y = [[5,8,1,2],\n",
    "    [6,7,3,0],\n",
    "    [4,5,9,1]]\n",
    "# result is 3x4\n",
    "result = [[0,0,0,0],\n",
    "         [0,0,0,0],\n",
    "         [0,0,0,0]]\n",
    "\n",
    "# iterate through rows of X\n",
    "for i in range(len(X)):\n",
    "   # iterate through columns of Y\n",
    "   for j in range(len(Y[0])):\n",
    "       # iterate through rows of Y\n",
    "       for k in range(len(Y)):\n",
    "           result[i][j] += X[i][k] * Y[k][j]\n",
    "\n",
    "for r in result:\n",
    "   print(r)\n"
   ]
  },
  {
   "cell_type": "code",
   "execution_count": 2,
   "id": "c0fa3edf-9132-47d0-9754-b68fa9455bb9",
   "metadata": {},
   "outputs": [
    {
     "name": "stdout",
     "output_type": "stream",
     "text": [
      "------------\n",
      "N-DIMENSIONAL TIC TAC TOE game by guru 99.com \n",
      "------------\n"
     ]
    },
    {
     "name": "stdin",
     "output_type": "stream",
     "text": [
      "Guru99 says>>> Enter N, the dimensions of the board:  3\n"
     ]
    },
    {
     "name": "stdout",
     "output_type": "stream",
     "text": [
      "\n",
      "_ _ _\n",
      "_ _ _\n",
      "_ _ _\n",
      "\n"
     ]
    },
    {
     "name": "stdin",
     "output_type": "stream",
     "text": [
      "Player 1 - Pick location (row, col):  0 1\n"
     ]
    },
    {
     "name": "stdout",
     "output_type": "stream",
     "text": [
      "\n",
      "_ X _\n",
      "_ _ _\n",
      "_ _ _\n",
      "\n"
     ]
    },
    {
     "name": "stdin",
     "output_type": "stream",
     "text": [
      "Player 2 - Pick location (row, col):  2 1\n"
     ]
    },
    {
     "name": "stdout",
     "output_type": "stream",
     "text": [
      "\n",
      "_ X _\n",
      "_ _ _\n",
      "_ O _\n",
      "\n"
     ]
    },
    {
     "name": "stdin",
     "output_type": "stream",
     "text": [
      "Player 1 - Pick location (row, col):  0 0\n"
     ]
    },
    {
     "name": "stdout",
     "output_type": "stream",
     "text": [
      "\n",
      "X X _\n",
      "_ _ _\n",
      "_ O _\n",
      "\n"
     ]
    },
    {
     "name": "stdin",
     "output_type": "stream",
     "text": [
      "Player 2 - Pick location (row, col):  2 0\n"
     ]
    },
    {
     "name": "stdout",
     "output_type": "stream",
     "text": [
      "\n",
      "X X _\n",
      "_ _ _\n",
      "O O _\n",
      "\n"
     ]
    },
    {
     "name": "stdin",
     "output_type": "stream",
     "text": [
      "Player 1 - Pick location (row, col):  0 3\n"
     ]
    },
    {
     "name": "stdout",
     "output_type": "stream",
     "text": [
      "Invalid input. Please enter a valid, unoccupied location as an integer pair.\n"
     ]
    },
    {
     "name": "stdin",
     "output_type": "stream",
     "text": [
      "Player 1 - Pick location (row, col):  0 2\n"
     ]
    },
    {
     "name": "stdout",
     "output_type": "stream",
     "text": [
      "\n",
      "X X X\n",
      "_ _ _\n",
      "O O _\n",
      "\n",
      "Game over, Player 1 wins.\n"
     ]
    },
    {
     "name": "stdin",
     "output_type": "stream",
     "text": [
      "Play Guru99 tic tac toe_Game again? (y/n):  n\n"
     ]
    },
    {
     "name": "stdout",
     "output_type": "stream",
     "text": [
      "\n",
      "Guru99 TicTacToe game ended.\n"
     ]
    }
   ],
   "source": [
    "#35.tic tac toe game\n",
    "def getInput(prompt, cast=None, condition=None, errorMessage=None):\n",
    "  while True:\n",
    "      try:\n",
    "          val = cast(input(prompt))\n",
    "          assert condition is None or condition(val)\n",
    "          return val\n",
    "      except:\n",
    "          print(errorMessage or \"Invalid input.\")\n",
    "# Print the game board\n",
    "def printBoard(board):\n",
    "  print()\n",
    "  for row in board:\n",
    "      print(*row)\n",
    "  print()\n",
    "# Check if player won using the winning combinations\n",
    "def checkWin(board):\n",
    "  # Check rows\n",
    "  for row in range(len(board)):\n",
    "      for col in range(len(board)-1):\n",
    "          if board[row][col] == \"_\" or board[row][col+1] == \"_\" or board[row][col] != board[row][col+1]:\n",
    "              break\n",
    "      else:\n",
    "          return True\n",
    "  # Check column numbers\n",
    "  for col in range(len(board)):\n",
    "      for row in range(len(board)-1):\n",
    "          if board[row][col] == \"_\" or board[row+1][col] == \"_\" or board[row][col] != board[row+1][col]:\n",
    "              break\n",
    "      else:\n",
    "          return True\n",
    "  # Check left diagonal\n",
    "  for cell in range(len(board)-1):\n",
    "      if board[cell][cell] == \"_\" or board[cell+1][cell+1] == \"_\" or board[cell][cell] != board[cell+1][cell+1]:\n",
    "          break\n",
    "  else:\n",
    "      return True\n",
    "  # Check right diagonal\n",
    "  for cell in range(len(board)-1):\n",
    "      emptyCell = board[cell][len(board)-cell-1] == \"_\" or board[cell+1][len(board)-cell-2] == \"_\"\n",
    "      different = board[cell][len(board)-cell-1] != board[cell+1][len(board)-cell-2]\n",
    "      if emptyCell or different:\n",
    "          break\n",
    "  else:\n",
    "      return True\n",
    "  # No win\n",
    "  return False\n",
    "# Play tic tac toe game\n",
    "def play():\n",
    "  # Introduction\n",
    "  print(\"------------\\nN-DIMENSIONAL TIC TAC TOE game by guru 99.com \\n------------\")\n",
    "  # Set up variables\n",
    "  N = getInput(prompt=\"Guru99 says>>> Enter N, the dimensions of the board: \",\n",
    "               cast=int,\n",
    "               condition=lambda x: x >= 3,\n",
    "               errorMessage=\"Invalid input. Please enter an integer greater than or equal to 3 as explained on guru99.com\")\n",
    "  board = [['_'] * N for _ in range(N)]\n",
    "  used = 0\n",
    "  turn = 0\n",
    "  # Play guru99 tic tac toe game in Python using while infinite loop\n",
    "  while True:\n",
    "      # Print guru99 tic tac toe game board\n",
    "      printBoard(board)\n",
    "      # Get user pick\n",
    "      pick = getInput(prompt=f\"Player {turn+1} - Pick location (row, col): \",\n",
    "                      cast=lambda line: tuple(map(int, line.split(\" \"))),\n",
    "                      condition=lambda pair: min(pair) >= 0 and max(pair) < N and board[pair[0]][pair[1]] == \"_\",\n",
    "                      errorMessage=\"Invalid input. Please enter a valid, unoccupied location as an integer pair.\")\n",
    "      # Populate location\n",
    "      board[pick[0]][pick[1]] = \"X\" if turn == 0 else \"O\"\n",
    "      used += 1\n",
    "      # Check for win\n",
    "      #Guru99 tutorial\n",
    "      if checkWin(board):\n",
    "          printBoard(board)\n",
    "          print(f\"Game over, Player {turn+1} wins.\")\n",
    "          break\n",
    "      # Check for tie\n",
    "      elif used == N*N:\n",
    "          printBoard(board)\n",
    "          print(\"Game over. Players have tied the match.\")\n",
    "          print(\"Guru99.com tic tac toe game \")\n",
    "          break\n",
    "      # If no win yet, update next user\n",
    "      turn = (turn+1)%2\n",
    "  # Check for rematch\n",
    "  playAgain = getInput(prompt=\"Play Guru99 tic tac toe_Game again? (y/n): \",\n",
    "                       cast=str,\n",
    "                       condition=lambda ans: ans.strip(\"\\n\").lower() in {\"y\", \"n\"},\n",
    "                       errorMessage=\"Invalid input. Please enter 'y' or 'n'.\")\n",
    "  if playAgain == 'n':\n",
    "      # End the game\n",
    "      print(\"\\nGuru99 TicTacToe game ended.\")\n",
    "      return\n",
    "  else:\n",
    "      # Rematch\n",
    "      play()\n",
    "# Main\n",
    "if __name__ == '__main__':\n",
    "  play()"
   ]
  },
  {
   "cell_type": "code",
   "execution_count": 4,
   "id": "b53a878e-ee91-4854-b856-b03c5ce8e4fe",
   "metadata": {},
   "outputs": [
    {
     "name": "stdin",
     "output_type": "stream",
     "text": [
      "Enter the number of terms in the sequence:  3\n"
     ]
    },
    {
     "name": "stdout",
     "output_type": "stream",
     "text": [
      "0 1 1 "
     ]
    }
   ],
   "source": [
    "#36.fibbonacci number using iterative method\n",
    "a = 0\n",
    "b = 1\n",
    "n=int(input(\"Enter the number of terms in the sequence: \"))\n",
    "print(a,b,end=\" \")\n",
    "while(n-2):\n",
    "    c=a+b\n",
    "    a,b = b,c\n",
    "    print(c,end=\" \")\n",
    "    n=n-1"
   ]
  },
  {
   "cell_type": "code",
   "execution_count": 6,
   "id": "dd48036a-5901-4276-9031-479a5e7efaf7",
   "metadata": {},
   "outputs": [
    {
     "name": "stdout",
     "output_type": "stream",
     "text": [
      "34\n"
     ]
    }
   ],
   "source": [
    "#37.nth term of fibonacci number\n",
    " #Function for nth Fibonacci number\n",
    " \n",
    "def Fibonacci(n):\n",
    "    if n<= 0:\n",
    "        print(\"Incorrect input\")\n",
    "    # First Fibonacci number is 0\n",
    "    elif n == 1:\n",
    "        return 0\n",
    "    # Second Fibonacci number is 1\n",
    "    elif n == 2:\n",
    "        return 1\n",
    "    else:\n",
    "        return Fibonacci(n-1)+Fibonacci(n-2)\n",
    " \n",
    "# Driver Program\n",
    " \n",
    "print(Fibonacci(10))\n"
   ]
  },
  {
   "cell_type": "code",
   "execution_count": 12,
   "id": "e6e8025c-afa6-47ef-9ffe-ee8fe3b925f6",
   "metadata": {},
   "outputs": [
    {
     "name": "stdout",
     "output_type": "stream",
     "text": [
      "   December 1992\n",
      "Mo Tu We Th Fr Sa Su\n",
      "    1  2  3  4  5  6\n",
      " 7  8  9 10 11 12 13\n",
      "14 15 16 17 18 19 20\n",
      "21 22 23 24 25 26 27\n",
      "28 29 30 31\n",
      "\n"
     ]
    }
   ],
   "source": [
    "#38.calender\n",
    "# import module\n",
    "import calendar\n",
    " \n",
    "yy = 1992\n",
    "mm = 12\n",
    " \n",
    "# display the calendar\n",
    "print(calendar.month(yy, mm))"
   ]
  },
  {
   "cell_type": "markdown",
   "id": "97e1e71d-2a7a-4946-bf04-eecb6758f838",
   "metadata": {},
   "source": [
    "#39.black jack game\n",
    "\"This imports the random object into Python, it allows it to generate random numbers.\"\n",
    "import random\n",
    "print(\"Hello and welcome to Sam's Black Jack!\")\n",
    "input(\"Press <ENTER> to begin.\")\n",
    "card1name = 1\n",
    "card2name = 1\n",
    "card3name = 1\n",
    "card4name = 1\n",
    "card5name = 1\n",
    "\n",
    "\"This defines the values of the character cards.\"\n",
    "Ace = 1\n",
    "Jack = 10\n",
    "Queen = 10\n",
    "King = 10\n",
    "\n",
    "decision = 0\n",
    "\n",
    "\"This generates the cards that are in your hand and the dealer's hand to begin with\"\n",
    "card1 = int(random.randrange(12) + 1)\n",
    "card2 = int(random.randrange(12) + 1)\n",
    "card3 = int(random.randrange(12) + 1)\n",
    "card4 = int(random.randrange(12) + 1)\n",
    "card5 = int(random.randrange(12) + 1)\n",
    "\n",
    "total1 = card1 + card2\n",
    "\n",
    "\"This makes the value of the Ace equal 11 if the total of your cards is under 21\"\n",
    "if total1 <= 21:\n",
    "    Ace = 11\n",
    "\n",
    "\"This defines what the cards are\"\n",
    "if card1 == 11:\n",
    "    card1 = 10\n",
    "    card1name = \"Jack\"\n",
    "if card1 == 12:\n",
    "    card1 = 10\n",
    "    card1name = \"Queen\"\n",
    "if card1 == 13:\n",
    "    card1 = 10\n",
    "    card1name = \"King\"\n",
    "if card1 == 1:\n",
    "    card1 = Ace\n",
    "    card1name = \"Ace\"\n",
    "\n",
    "elif card1:\n",
    "    card1name = card1\n",
    "\n",
    "if card2 == 11:\n",
    "    card2 = 10\n",
    "    card2name = \"Jack\"\n",
    "if card2 == 12:\n",
    "    card2 = 10\n",
    "    card2name = \"Queen\"\n",
    "if card2 == 13:\n",
    "    card2 = 10\n",
    "    card2name = \"King\"\n",
    "if card2 == 1:\n",
    "    card2 = Ace\n",
    "    card2name = \"Ace\"\n",
    "\n",
    "elif card2:\n",
    "    card2name = card2\n",
    "\n",
    "if card3 == 11:\n",
    "    card3 = 10\n",
    "    card3name = \"Jack\"\n",
    "if card3 == 12:\n",
    "    card3 = 10\n",
    "    card3name = \"Queen\"\n",
    "if card3 == 13:\n",
    "    card3 = 10\n",
    "    card3name= \"King\"\n",
    "if card3 == 1:\n",
    "    card3 = Ace\n",
    "    card3name = \"Ace\"\n",
    "\n",
    "elif card3:\n",
    "    card3name = card3\n",
    "\n",
    "if card4 == 11:\n",
    "    card4 = 10\n",
    "    card4name = \"Jack\"\n",
    "if card4 == 12:\n",
    "    card4 = 10\n",
    "    card4name = \"Queen\"\n",
    "if card4 == 13:\n",
    "    card4 = 10\n",
    "    card4name = \"King\"\n",
    "if card4 == 1:\n",
    "    card4 = Ace\n",
    "    card4name = \"Ace\"\n",
    "\n",
    "elif card4:\n",
    "    card4name = card4\n",
    "\n",
    "if card5 == 11:\n",
    "    card5 = 10\n",
    "    card5name = \"Jack\"\n",
    "if card5 == 12:\n",
    "    card5 = 10\n",
    "    card5name = \"Queen\"\n",
    "if card5 == 13:\n",
    "    card5 = 10\n",
    "    card5name = \"King\"\n",
    "if card5 == 1:\n",
    "    card5 = Ace\n",
    "    card5name = \"Ace\"\n",
    "\n",
    "elif card5:\n",
    "    card5name = card5\n",
    "\"This creates the totals of your hand\"\n",
    "total2 = card1 + card2\n",
    "total3 = card1 + card2 + card3\n",
    "\n",
    "print(\"You hand is \", card1name,\" and\", card2name)\n",
    "print(\"The total of your hand is\", total2)\n",
    "decision = input(\"Do you want to HIT or STAND?\").lower()\n",
    "\n",
    "\"This is the decision for Hit or Stand\"\n",
    "if 'hit' or 'HIT' or 'Hit' in decision:\n",
    "    decision = 1\n",
    "    print(\"You have selected HIT\")\n",
    "    print(\"Your hand is \", card1name,\",\",card2name,\" and\", card3name)\n",
    "    print(\"The total of your hand is\", total3)\n",
    "\n",
    "if 'STAND' or 'stand' or 'Stand' in decision:\n",
    "    print(\"You have selected STAND\")\n",
    "\n",
    "\"Dealer's Hand\"\n",
    "dealer = card4 + card5\n",
    "print()\n",
    "print(\"The dealer's hand is\", card4name,\" and\", card5name)\n",
    "\n",
    "if decision == 1 and dealer < total3:\n",
    "    print(\"Congratulations, you beat the dealer!\")\n",
    "\n",
    "if decision == 1 and dealer > total3:\n",
    "    print(\"Too bad, the dealer beat you!\")"
   ]
  },
  {
   "cell_type": "code",
   "execution_count": 13,
   "id": "48a38646-1e24-4c80-afdb-8b4f512c0a71",
   "metadata": {},
   "outputs": [
    {
     "name": "stdin",
     "output_type": "stream",
     "text": [
      " Please Enter any Number:  23\n"
     ]
    },
    {
     "name": "stdout",
     "output_type": "stream",
     "text": [
      " 23 is a Prime Factor of a Given Number 23\n"
     ]
    }
   ],
   "source": [
    "#40.prime factor\n",
    "# Python Program to find Prime Factors of a Number\n",
    " \n",
    "Number = int(input(\" Please Enter any Number: \"))\n",
    "\n",
    "for i in range(2, Number + 1):\n",
    "    if(Number % i == 0):\n",
    "        isprime = 1\n",
    "        for j in range(2, (i //2 + 1)):\n",
    "            if(i % j == 0):\n",
    "                isprime = 0\n",
    "                break\n",
    "            \n",
    "        if (isprime == 1):\n",
    "            print(\" %d is a Prime Factor of a Given Number %d\" %(i, Number))"
   ]
  },
  {
   "cell_type": "markdown",
   "id": "0bd4341a-a8e3-4b18-9803-ab9d44bcf7dc",
   "metadata": {},
   "source": [
    "# THAN"
   ]
  }
 ],
 "metadata": {
  "kernelspec": {
   "display_name": "Python 3 (ipykernel)",
   "language": "python",
   "name": "python3"
  },
  "language_info": {
   "codemirror_mode": {
    "name": "ipython",
    "version": 3
   },
   "file_extension": ".py",
   "mimetype": "text/x-python",
   "name": "python",
   "nbconvert_exporter": "python",
   "pygments_lexer": "ipython3",
   "version": "3.10.8"
  }
 },
 "nbformat": 4,
 "nbformat_minor": 5
}
